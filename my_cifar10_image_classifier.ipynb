{
  "nbformat": 4,
  "nbformat_minor": 0,
  "metadata": {
    "colab": {
      "provenance": [],
      "authorship_tag": "ABX9TyOsfjHndz3Smee6SLG3cxCs",
      "include_colab_link": true
    },
    "kernelspec": {
      "name": "python3",
      "display_name": "Python 3"
    },
    "language_info": {
      "name": "python"
    }
  },
  "cells": [
    {
      "cell_type": "markdown",
      "metadata": {
        "id": "view-in-github",
        "colab_type": "text"
      },
      "source": [
        "<a href=\"https://colab.research.google.com/github/Sisasenkosi/Classification_using_CIFAR10/blob/main/my_cifar10_image_classifier.ipynb\" target=\"_parent\"><img src=\"https://colab.research.google.com/assets/colab-badge.svg\" alt=\"Open In Colab\"/></a>"
      ]
    },
    {
      "cell_type": "code",
      "metadata": {
        "colab": {
          "base_uri": "https://localhost:8080/"
        },
        "id": "-49UbivyW1VM",
        "outputId": "42591bb7-8f6a-4cb7-b12a-03116f78fd8e"
      },
      "source": [
        "## loading the data \n",
        " \n",
        "from keras.datasets import cifar10\n",
        "(x_train, y_train), (x_test, y_test) = cifar10.load_data()"
      ],
      "execution_count": null,
      "outputs": [
        {
          "output_type": "stream",
          "text": [
            "Downloading data from https://www.cs.toronto.edu/~kriz/cifar-10-python.tar.gz\n",
            "170500096/170498071 [==============================] - 2s 0us/step\n"
          ],
          "name": "stdout"
        }
      ]
    },
    {
      "cell_type": "code",
      "metadata": {
        "colab": {
          "base_uri": "https://localhost:8080/"
        },
        "id": "3-dJbOjIbicy",
        "outputId": "923f4fc3-ac30-4aac-bd3c-f86da5132585"
      },
      "source": [
        "# printing the shape of the data \n",
        "\n",
        "print('x_train shape :', x_train.shape)\n",
        "print('y_train shape :', y_train.shape)\n",
        "print( x_train[0])"
      ],
      "execution_count": null,
      "outputs": [
        {
          "output_type": "stream",
          "text": [
            "x_train shape : (50000, 32, 32, 3)\n",
            "y_train shape : (50000, 1)\n",
            "[[[ 59  62  63]\n",
            "  [ 43  46  45]\n",
            "  [ 50  48  43]\n",
            "  ...\n",
            "  [158 132 108]\n",
            "  [152 125 102]\n",
            "  [148 124 103]]\n",
            "\n",
            " [[ 16  20  20]\n",
            "  [  0   0   0]\n",
            "  [ 18   8   0]\n",
            "  ...\n",
            "  [123  88  55]\n",
            "  [119  83  50]\n",
            "  [122  87  57]]\n",
            "\n",
            " [[ 25  24  21]\n",
            "  [ 16   7   0]\n",
            "  [ 49  27   8]\n",
            "  ...\n",
            "  [118  84  50]\n",
            "  [120  84  50]\n",
            "  [109  73  42]]\n",
            "\n",
            " ...\n",
            "\n",
            " [[208 170  96]\n",
            "  [201 153  34]\n",
            "  [198 161  26]\n",
            "  ...\n",
            "  [160 133  70]\n",
            "  [ 56  31   7]\n",
            "  [ 53  34  20]]\n",
            "\n",
            " [[180 139  96]\n",
            "  [173 123  42]\n",
            "  [186 144  30]\n",
            "  ...\n",
            "  [184 148  94]\n",
            "  [ 97  62  34]\n",
            "  [ 83  53  34]]\n",
            "\n",
            " [[177 144 116]\n",
            "  [168 129  94]\n",
            "  [179 142  87]\n",
            "  ...\n",
            "  [216 184 140]\n",
            "  [151 118  84]\n",
            "  [123  92  72]]]\n"
          ],
          "name": "stdout"
        }
      ]
    },
    {
      "cell_type": "markdown",
      "metadata": {
        "id": "NjHR5vSjd8Fr"
      },
      "source": [
        "#Now lets visualise the image "
      ]
    },
    {
      "cell_type": "code",
      "metadata": {
        "colab": {
          "base_uri": "https://localhost:8080/",
          "height": 266
        },
        "id": "RlH1o5HoeUCt",
        "outputId": "5a98848a-cb2e-465a-f179-24a54b5126d4"
      },
      "source": [
        "import matplotlib.pyplot as plt\n",
        "%matplotlib inline\n",
        "\n",
        "img = plt.imshow(x_train[1])\n",
        "\n",
        "#imshow will display numbered pixel values of the first image "
      ],
      "execution_count": null,
      "outputs": [
        {
          "output_type": "display_data",
          "data": {
            "image/png": "[encoded data removed]",
            "text/plain": [
              "<Figure size 432x288 with 1 Axes>"
            ]
          },
          "metadata": {
            "tags": [],
            "needs_background": "light"
          }
        }
      ]
    },
    {
      "cell_type": "markdown",
      "metadata": {
        "id": "VPU2lPRgf7kq"
      },
      "source": [
        "# now lets see the label number "
      ]
    },
    {
      "cell_type": "code",
      "metadata": {
        "colab": {
          "base_uri": "https://localhost:8080/"
        },
        "id": "HCEJtfqngBXB",
        "outputId": "5a659800-11a2-482b-9de5-305a3cfc3cad"
      },
      "source": [
        "print('The label number in output is ', y_train[1])"
      ],
      "execution_count": null,
      "outputs": [
        {
          "output_type": "stream",
          "text": [
            "The label number in output is  [9]\n"
          ],
          "name": "stdout"
        }
      ]
    },
    {
      "cell_type": "markdown",
      "metadata": {
        "id": "schhyjt7hM6E"
      },
      "source": [
        "Lets use one hot encoding to denote the labels thus making labels 0 and 1s 1s"
      ]
    },
    {
      "cell_type": "code",
      "metadata": {
        "colab": {
          "base_uri": "https://localhost:8080/"
        },
        "id": "6CuUwBetiDmA",
        "outputId": "448efb34-cb0d-4128-8510-ab9a934c7a20"
      },
      "source": [
        "import keras\n",
        "y_train_one_hot = keras.utils.to_categorical(y_train,10)\n",
        "y_test_one_hot  = keras.utils.to_categorical(y_test,10)\n",
        "\n",
        " # then lets visualise the 2nd label now in binary\n",
        "\n",
        "print ('The one hot encoding lab is ', y_train_one_hot[1])"
      ],
      "execution_count": null,
      "outputs": [
        {
          "output_type": "stream",
          "text": [
            "The one hot encoding lab is  [0. 0. 0. 0. 0. 0. 0. 0. 0. 1.]\n"
          ],
          "name": "stdout"
        }
      ]
    },
    {
      "cell_type": "markdown",
      "metadata": {
        "id": "5dyQobSZkD25"
      },
      "source": [
        "Now we wanna make our input values for the images only btwn 0 - 1 by dividing by 255"
      ]
    },
    {
      "cell_type": "code",
      "metadata": {
        "colab": {
          "base_uri": "https://localhost:8080/"
        },
        "id": "ZD9WStP2kPze",
        "outputId": "63fbca2e-6cd0-4e0e-bb59-b3d23c3f5e2c"
      },
      "source": [
        "x_train = x_train.astype('float32')\n",
        "x_test = x_test.astype('float32')\n",
        "\n",
        "# now dividing\n",
        "x_train = x_train/255\n",
        "x_test = x_test/255\n",
        "\n",
        "# now lets the output\n",
        "x_train[0]"
      ],
      "execution_count": null,
      "outputs": [
        {
          "output_type": "execute_result",
          "data": {
            "text/plain": [
              "array([[[0.23137255, 0.24313726, 0.24705882],\n",
              "        [0.16862746, 0.18039216, 0.1764706 ],\n",
              "        [0.19607843, 0.1882353 , 0.16862746],\n",
              "        ...,\n",
              "        [0.61960787, 0.5176471 , 0.42352942],\n",
              "        [0.59607846, 0.49019608, 0.4       ],\n",
              "        [0.5803922 , 0.4862745 , 0.40392157]],\n",
              "\n",
              "       [[0.0627451 , 0.07843138, 0.07843138],\n",
              "        [0.        , 0.        , 0.        ],\n",
              "        [0.07058824, 0.03137255, 0.        ],\n",
              "        ...,\n",
              "        [0.48235294, 0.34509805, 0.21568628],\n",
              "        [0.46666667, 0.3254902 , 0.19607843],\n",
              "        [0.47843137, 0.34117648, 0.22352941]],\n",
              "\n",
              "       [[0.09803922, 0.09411765, 0.08235294],\n",
              "        [0.0627451 , 0.02745098, 0.        ],\n",
              "        [0.19215687, 0.10588235, 0.03137255],\n",
              "        ...,\n",
              "        [0.4627451 , 0.32941177, 0.19607843],\n",
              "        [0.47058824, 0.32941177, 0.19607843],\n",
              "        [0.42745098, 0.28627452, 0.16470589]],\n",
              "\n",
              "       ...,\n",
              "\n",
              "       [[0.8156863 , 0.6666667 , 0.3764706 ],\n",
              "        [0.7882353 , 0.6       , 0.13333334],\n",
              "        [0.7764706 , 0.6313726 , 0.10196079],\n",
              "        ...,\n",
              "        [0.627451  , 0.52156866, 0.27450982],\n",
              "        [0.21960784, 0.12156863, 0.02745098],\n",
              "        [0.20784314, 0.13333334, 0.07843138]],\n",
              "\n",
              "       [[0.7058824 , 0.54509807, 0.3764706 ],\n",
              "        [0.6784314 , 0.48235294, 0.16470589],\n",
              "        [0.7294118 , 0.5647059 , 0.11764706],\n",
              "        ...,\n",
              "        [0.72156864, 0.5803922 , 0.36862746],\n",
              "        [0.38039216, 0.24313726, 0.13333334],\n",
              "        [0.3254902 , 0.20784314, 0.13333334]],\n",
              "\n",
              "       [[0.69411767, 0.5647059 , 0.45490196],\n",
              "        [0.65882355, 0.5058824 , 0.36862746],\n",
              "        [0.7019608 , 0.5568628 , 0.34117648],\n",
              "        ...,\n",
              "        [0.84705883, 0.72156864, 0.54901963],\n",
              "        [0.5921569 , 0.4627451 , 0.32941177],\n",
              "        [0.48235294, 0.36078432, 0.28235295]]], dtype=float32)"
            ]
          },
          "metadata": {
            "tags": []
          },
          "execution_count": 18
        }
      ]
    },
    {
      "cell_type": "code",
      "metadata": {
        "id": "ZrNSIqXQp78x"
      },
      "source": [
        "from keras.models import Sequential \n",
        "from keras.layers import Dense, Dropout, Flatten, Conv2D, MaxPooling2D"
      ],
      "execution_count": null,
      "outputs": []
    },
    {
      "cell_type": "markdown",
      "metadata": {
        "id": "PewgxgJvqUXK"
      },
      "source": [
        "Now we just imported the things we need, lets now call an empty sequential model then well add layers one by one"
      ]
    },
    {
      "cell_type": "code",
      "metadata": {
        "id": "Zx_3H1G7q16C"
      },
      "source": [
        "model = Sequential()"
      ],
      "execution_count": null,
      "outputs": []
    },
    {
      "cell_type": "markdown",
      "metadata": {
        "id": "kMH_nv3hrNu5"
      },
      "source": [
        "## First layer"
      ]
    },
    {
      "cell_type": "markdown",
      "metadata": {
        "id": "UfouoeqRrpbh"
      },
      "source": [
        "conv layer with filter size 3x3 stride size 1 (default), depth 32 is then added to our sequential model"
      ]
    },
    {
      "cell_type": "code",
      "metadata": {
        "id": "THOHiSy9rvsc"
      },
      "source": [
        "model.add(Conv2D(32, (3,3), activation ='relu', padding='same',  input_shape=(32,32,3)))"
      ],
      "execution_count": null,
      "outputs": []
    },
    {
      "cell_type": "markdown",
      "metadata": {
        "id": "yWc9W7-6tN5_"
      },
      "source": [
        "## Second layer\n",
        " - we dont need to specify input\n"
      ]
    },
    {
      "cell_type": "code",
      "metadata": {
        "id": "Ez_E0xSutgpW"
      },
      "source": [
        "model.add(Conv2D(32, (3,3), activation ='relu', padding='same'))"
      ],
      "execution_count": null,
      "outputs": []
    },
    {
      "cell_type": "markdown",
      "metadata": {
        "id": "14SOEJdgtwj4"
      },
      "source": [
        "## Third layer\n",
        "- max pool with size 2x2 "
      ]
    },
    {
      "cell_type": "code",
      "metadata": {
        "id": "7tcZ9pMCwRjZ"
      },
      "source": [
        "model.add(MaxPooling2D(pool_size= (2,2)))\n",
        "\n"
      ],
      "execution_count": null,
      "outputs": []
    },
    {
      "cell_type": "code",
      "metadata": {
        "id": "Z-D_5Sl8xEkJ"
      },
      "source": [
        "model.add(Dropout(0.25))\n",
        "\n",
        "#we just added dropout layer to avoid overfitting"
      ],
      "execution_count": null,
      "outputs": []
    },
    {
      "cell_type": "markdown",
      "metadata": {
        "id": "rzKBtVJcu5n8"
      },
      "source": [
        "#The nex 4 layers "
      ]
    },
    {
      "cell_type": "code",
      "metadata": {
        "id": "yhsjnVmuvEOR"
      },
      "source": [
        "model.add(Conv2D(64, (3,3), activation ='relu', padding='same'))\n",
        "model.add(Conv2D(64, (3,3), activation ='relu', padding='same'))\n",
        "model.add(MaxPooling2D(pool_size= (2,2)))\n",
        "model.add(Dropout(0.25))\n"
      ],
      "execution_count": null,
      "outputs": []
    },
    {
      "cell_type": "markdown",
      "metadata": {
        "id": "D0HFX3jA1t5A"
      },
      "source": [
        "Now we flattern our neurons from cube like structure to one row"
      ]
    },
    {
      "cell_type": "code",
      "metadata": {
        "id": "wvbfu73p15dU"
      },
      "source": [
        "model.add(Flatten())"
      ],
      "execution_count": null,
      "outputs": []
    },
    {
      "cell_type": "code",
      "metadata": {
        "id": "S3NWWaJY2IIJ"
      },
      "source": [
        "model.add(Dense(512, activation='relu'))\n",
        "\n",
        "# we then add another dropout of 0.5 probability\n",
        "\n",
        "model.add(Dropout(0.5))\n",
        "\n",
        "#then add dense fc layer\n",
        "\n",
        "model.add(Dense (10, activation='softmax'))"
      ],
      "execution_count": null,
      "outputs": []
    },
    {
      "cell_type": "code",
      "metadata": {
        "colab": {
          "base_uri": "https://localhost:8080/"
        },
        "id": "yZynGwD03MtQ",
        "outputId": "2b716162-bb9f-4734-c1b4-ffb3dbd18df4"
      },
      "source": [
        "# now to see the summary of architecture\n",
        "\n",
        "model.summary()"
      ],
      "execution_count": null,
      "outputs": [
        {
          "output_type": "stream",
          "text": [
            "Model: \"sequential\"\n",
            "_________________________________________________________________\n",
            "Layer (type)                 Output Shape              Param #   \n",
            "=================================================================\n",
            "conv2d (Conv2D)              (None, 32, 32, 32)        896       \n",
            "_________________________________________________________________\n",
            "conv2d_1 (Conv2D)            (None, 32, 32, 32)        9248      \n",
            "_________________________________________________________________\n",
            "max_pooling2d (MaxPooling2D) (None, 16, 16, 32)        0         \n",
            "_________________________________________________________________\n",
            "dropout (Dropout)            (None, 16, 16, 32)        0         \n",
            "_________________________________________________________________\n",
            "conv2d_2 (Conv2D)            (None, 16, 16, 64)        18496     \n",
            "_________________________________________________________________\n",
            "conv2d_3 (Conv2D)            (None, 16, 16, 64)        36928     \n",
            "_________________________________________________________________\n",
            "max_pooling2d_1 (MaxPooling2 (None, 8, 8, 64)          0         \n",
            "_________________________________________________________________\n",
            "dropout_1 (Dropout)          (None, 8, 8, 64)          0         \n",
            "_________________________________________________________________\n",
            "flatten (Flatten)            (None, 4096)              0         \n",
            "_________________________________________________________________\n",
            "dense (Dense)                (None, 512)               2097664   \n",
            "_________________________________________________________________\n",
            "dropout_2 (Dropout)          (None, 512)               0         \n",
            "_________________________________________________________________\n",
            "dense_1 (Dense)              (None, 10)                5130      \n",
            "=================================================================\n",
            "Total params: 2,168,362\n",
            "Trainable params: 2,168,362\n",
            "Non-trainable params: 0\n",
            "_________________________________________________________________\n"
          ],
          "name": "stdout"
        }
      ]
    },
    {
      "cell_type": "code",
      "metadata": {
        "id": "0AYxxvTh4iDw"
      },
      "source": [
        "# we are done with specifying our model now we fll in the best numbers\n",
        "\n",
        "model.compile(loss='categorical_crossentropy', optimizer='adam', metrics=['accuracy'])\n",
        "\n",
        "#the above loss function is applicable for classification of many classes"
      ],
      "execution_count": null,
      "outputs": []
    },
    {
      "cell_type": "markdown",
      "metadata": {
        "id": "QtPGKSmo6Kyh"
      },
      "source": [
        "##Running the training"
      ]
    },
    {
      "cell_type": "code",
      "metadata": {
        "colab": {
          "base_uri": "https://localhost:8080/"
        },
        "id": "Vj8NqvZr6QMP",
        "outputId": "23aeff3d-a71d-40e4-8d9a-7c5be3f5bbc8"
      },
      "source": [
        "hist = model.fit(x_train, y_train_one_hot, batch_size=32, epochs=20, validation_split=0.2)\n",
        "\n",
        "#above states that size = 32 and 20 loops and noe instead of splitting data from beginning, we use \"validation split\" \n",
        "#this means that 20% is validation dataset"
      ],
      "execution_count": null,
      "outputs": [
        {
          "output_type": "stream",
          "text": [
            "Epoch 1/20\n",
            "1250/1250 [==============================] - 236s 188ms/step - loss: 1.7658 - accuracy: 0.3487 - val_loss: 1.1615 - val_accuracy: 0.5830\n",
            "Epoch 2/20\n",
            "1250/1250 [==============================] - 235s 188ms/step - loss: 1.1415 - accuracy: 0.5944 - val_loss: 0.9511 - val_accuracy: 0.6665\n",
            "Epoch 3/20\n",
            "1250/1250 [==============================] - 236s 189ms/step - loss: 0.9757 - accuracy: 0.6573 - val_loss: 0.8440 - val_accuracy: 0.7091\n",
            "Epoch 4/20\n",
            "1250/1250 [==============================] - 235s 188ms/step - loss: 0.8581 - accuracy: 0.6990 - val_loss: 0.7928 - val_accuracy: 0.7198\n",
            "Epoch 5/20\n",
            "1250/1250 [==============================] - 234s 187ms/step - loss: 0.7913 - accuracy: 0.7185 - val_loss: 0.7515 - val_accuracy: 0.7380\n",
            "Epoch 6/20\n",
            "1250/1250 [==============================] - 237s 190ms/step - loss: 0.7353 - accuracy: 0.7419 - val_loss: 0.7122 - val_accuracy: 0.7532\n",
            "Epoch 7/20\n",
            "1250/1250 [==============================] - 238s 190ms/step - loss: 0.6847 - accuracy: 0.7600 - val_loss: 0.7153 - val_accuracy: 0.7512\n",
            "Epoch 8/20\n",
            "1250/1250 [==============================] - 238s 191ms/step - loss: 0.6419 - accuracy: 0.7752 - val_loss: 0.6903 - val_accuracy: 0.7643\n",
            "Epoch 9/20\n",
            "1250/1250 [==============================] - 236s 189ms/step - loss: 0.6053 - accuracy: 0.7865 - val_loss: 0.6912 - val_accuracy: 0.7668\n",
            "Epoch 10/20\n",
            "1250/1250 [==============================] - 237s 189ms/step - loss: 0.5715 - accuracy: 0.7965 - val_loss: 0.7464 - val_accuracy: 0.7549\n",
            "Epoch 11/20\n",
            "1250/1250 [==============================] - 237s 190ms/step - loss: 0.5360 - accuracy: 0.8113 - val_loss: 0.7352 - val_accuracy: 0.7561\n",
            "Epoch 12/20\n",
            "1250/1250 [==============================] - 236s 189ms/step - loss: 0.5081 - accuracy: 0.8184 - val_loss: 0.7155 - val_accuracy: 0.7662\n",
            "Epoch 13/20\n",
            "1250/1250 [==============================] - 236s 189ms/step - loss: 0.4933 - accuracy: 0.8276 - val_loss: 0.6715 - val_accuracy: 0.7746\n",
            "Epoch 14/20\n",
            "1250/1250 [==============================] - 237s 190ms/step - loss: 0.4692 - accuracy: 0.8322 - val_loss: 0.7032 - val_accuracy: 0.7765\n",
            "Epoch 15/20\n",
            "1250/1250 [==============================] - 236s 189ms/step - loss: 0.4704 - accuracy: 0.8386 - val_loss: 0.7047 - val_accuracy: 0.7768\n",
            "Epoch 16/20\n",
            "1250/1250 [==============================] - 236s 189ms/step - loss: 0.4375 - accuracy: 0.8478 - val_loss: 0.6845 - val_accuracy: 0.7756\n",
            "Epoch 17/20\n",
            "1250/1250 [==============================] - 240s 192ms/step - loss: 0.4188 - accuracy: 0.8539 - val_loss: 0.7194 - val_accuracy: 0.7738\n",
            "Epoch 18/20\n",
            "1250/1250 [==============================] - 241s 193ms/step - loss: 0.4165 - accuracy: 0.8549 - val_loss: 0.7011 - val_accuracy: 0.7785\n",
            "Epoch 19/20\n",
            "1250/1250 [==============================] - 239s 191ms/step - loss: 0.4161 - accuracy: 0.8551 - val_loss: 0.7093 - val_accuracy: 0.7769\n",
            "Epoch 20/20\n",
            "1250/1250 [==============================] - 239s 191ms/step - loss: 0.3944 - accuracy: 0.8571 - val_loss: 0.7181 - val_accuracy: 0.7752\n"
          ],
          "name": "stdout"
        }
      ]
    },
    {
      "cell_type": "markdown",
      "metadata": {
        "id": "_l7SESozs8FK"
      },
      "source": [
        "#Now lets visualise the model training and validation for our  epochs"
      ]
    },
    {
      "cell_type": "code",
      "metadata": {
        "colab": {
          "base_uri": "https://localhost:8080/",
          "height": 313
        },
        "id": "zaBi2x90tPNj",
        "outputId": "ef6e573e-88cf-4e99-ac25-cf40e5a896dc"
      },
      "source": [
        "plt.plot(hist.history['loss'])\n",
        "plt.plot(hist.history['val_loss'])\n",
        "plt.title('Model loss')\n",
        "plt.ylabel('loss')\n",
        "plt.xlabel('Epoch')\n",
        "plt.legend(['Train', 'Val'], loc='upper right')\n",
        "plt.show\n"
      ],
      "execution_count": null,
      "outputs": [
        {
          "output_type": "execute_result",
          "data": {
            "text/plain": [
              "<function matplotlib.pyplot.show>"
            ]
          },
          "metadata": {
            "tags": []
          },
          "execution_count": 34
        },
        {
          "output_type": "display_data",
          "data": {
            "image/png": "[encoded data removed]",
            "text/plain": [
              "<Figure size 432x288 with 1 Axes>"
            ]
          },
          "metadata": {
            "tags": [],
            "needs_background": "light"
          }
        }
      ]
    },
    {
      "cell_type": "code",
      "metadata": {
        "colab": {
          "base_uri": "https://localhost:8080/",
          "height": 313
        },
        "id": "RKY0RnbjUBvA",
        "outputId": "575ac904-e6ef-4f27-c902-823ec56e166a"
      },
      "source": [
        "plt.plot(hist.history['accuracy'])\n",
        "plt.plot(hist.history['val_accuracy'])\n",
        "plt.title('Model Accuracy')\n",
        "plt.ylabel('Accuracy')\n",
        "plt.xlabel('Epoch')\n",
        "plt.legend(['Train', 'Val'], loc='lower right')\n",
        "plt.show\n"
      ],
      "execution_count": null,
      "outputs": [
        {
          "output_type": "execute_result",
          "data": {
            "text/plain": [
              "<function matplotlib.pyplot.show>"
            ]
          },
          "metadata": {
            "tags": []
          },
          "execution_count": 37
        },
        {
          "output_type": "display_data",
          "data": {
            "image/png": "[encoded data removed]",
            "text/plain": [
              "<Figure size 432x288 with 1 Axes>"
            ]
          },
          "metadata": {
            "tags": [],
            "needs_background": "light"
          }
        }
      ]
    },
    {
      "cell_type": "markdown",
      "metadata": {
        "id": "1ZVGMEoUVOTZ"
      },
      "source": [
        "#Now evaluating the model"
      ]
    },
    {
      "cell_type": "code",
      "metadata": {
        "colab": {
          "base_uri": "https://localhost:8080/"
        },
        "id": "me3_IBEaVcfM",
        "outputId": "b2d88d93-d611-4077-e777-36eb69f8c33e"
      },
      "source": [
        "model.evaluate(x_test, y_test_one_hot)[1]"
      ],
      "execution_count": null,
      "outputs": [
        {
          "output_type": "stream",
          "text": [
            "313/313 [==============================] - 13s 42ms/step - loss: 0.7682 - accuracy: 0.7639\n"
          ],
          "name": "stdout"
        },
        {
          "output_type": "execute_result",
          "data": {
            "text/plain": [
              "0.7638999819755554"
            ]
          },
          "metadata": {
            "tags": []
          },
          "execution_count": 38
        }
      ]
    },
    {
      "cell_type": "markdown",
      "metadata": {
        "id": "6FIurOg0WEBs"
      },
      "source": [
        "#lets save our model"
      ]
    },
    {
      "cell_type": "code",
      "metadata": {
        "id": "9AAWH4FpWNbZ"
      },
      "source": [
        "model.save('my_cifar10_model.h5')"
      ],
      "execution_count": null,
      "outputs": []
    }
  ]
}